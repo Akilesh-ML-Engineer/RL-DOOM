{
 "cells": [
  {
   "cell_type": "code",
   "execution_count": 1,
   "id": "a2933f40-0759-4ba7-b137-620938d0cf81",
   "metadata": {},
   "outputs": [
    {
     "name": "stdout",
     "output_type": "stream",
     "text": [
      "Sat Jul 27 17:56:26 2024       \n",
      "+-----------------------------------------------------------------------------------------+\n",
      "| NVIDIA-SMI 555.58.02              Driver Version: 555.58.02      CUDA Version: 12.5     |\n",
      "|-----------------------------------------+------------------------+----------------------+\n",
      "| GPU  Name                 Persistence-M | Bus-Id          Disp.A | Volatile Uncorr. ECC |\n",
      "| Fan  Temp   Perf          Pwr:Usage/Cap |           Memory-Usage | GPU-Util  Compute M. |\n",
      "|                                         |                        |               MIG M. |\n",
      "|=========================================+========================+======================|\n",
      "|   0  NVIDIA GeForce RTX 4050 ...    Off |   00000000:01:00.0 Off |                  N/A |\n",
      "| N/A   45C    P0             16W /   80W |      11MiB /   6141MiB |      0%      Default |\n",
      "|                                         |                        |                  N/A |\n",
      "+-----------------------------------------+------------------------+----------------------+\n",
      "                                                                                         \n",
      "+-----------------------------------------------------------------------------------------+\n",
      "| Processes:                                                                              |\n",
      "|  GPU   GI   CI        PID   Type   Process name                              GPU Memory |\n",
      "|        ID   ID                                                               Usage      |\n",
      "|=========================================================================================|\n",
      "|    0   N/A  N/A       789      G   /usr/lib/Xorg                                   4MiB |\n",
      "+-----------------------------------------------------------------------------------------+\n"
     ]
    }
   ],
   "source": [
    "!nvidia-smi"
   ]
  },
  {
   "cell_type": "code",
   "execution_count": 2,
   "id": "3d27be67-4376-449c-9beb-c041bf0d213d",
   "metadata": {},
   "outputs": [
    {
     "name": "stdout",
     "output_type": "stream",
     "text": [
      "/home/asa/Documents/Repository/Github/RL-DOOM\n"
     ]
    }
   ],
   "source": [
    "!pwd"
   ]
  },
  {
   "cell_type": "code",
   "execution_count": 4,
   "id": "eb3a6fe7-c6bb-4c16-99dd-fd862ad0a527",
   "metadata": {},
   "outputs": [
    {
     "name": "stdout",
     "output_type": "stream",
     "text": [
      "total 8\n",
      "drwxr-xr-x 1 asa asa  100 Jul 27 18:01 .\n",
      "drwxr-xr-x 1 asa asa   98 Jul 27 09:22 ..\n",
      "drwxr-xr-x 1 asa asa  144 Jul 27 14:58 .git\n",
      "-rw-r--r-- 1 asa asa   41 Jul 27 14:54 .gitignore\n",
      "drwxr-xr-x 1 asa asa   42 Jul 27 11:19 .ipynb_checkpoints\n",
      "-rw-r--r-- 1 asa asa 2888 Jul 27 17:58 main.ipynb\n",
      "drwxr-xr-x 1 asa asa    0 Jul 27 18:01 packages\n"
     ]
    }
   ],
   "source": [
    "!mkdir -p packages && ls -al"
   ]
  },
  {
   "cell_type": "code",
   "execution_count": 5,
   "id": "19a1ee95-e931-4917-941f-76a1e9792b81",
   "metadata": {},
   "outputs": [
    {
     "name": "stdout",
     "output_type": "stream",
     "text": [
      "Cloning into 'ViZDoom'...\n",
      "remote: Enumerating objects: 18326, done.\u001b[K\n",
      "remote: Counting objects: 100% (2926/2926), done.\u001b[K\n",
      "remote: Compressing objects: 100% (975/975), done.\u001b[K\n",
      "remote: Total 18326 (delta 1775), reused 2728 (delta 1649), pack-reused 15400\u001b[K\n",
      "Receiving objects: 100% (18326/18326), 59.31 MiB | 2.46 MiB/s, done.\n",
      "Resolving deltas: 100% (11568/11568), done.\n"
     ]
    }
   ],
   "source": [
    "!cd packages/ && git clone https://github.com/Farama-Foundation/ViZDoom.git"
   ]
  },
  {
   "cell_type": "code",
   "execution_count": 1,
   "id": "183bd1b6-8f9d-4543-8f36-c8437881044a",
   "metadata": {},
   "outputs": [],
   "source": [
    "# Importing the required packages\n",
    "from vizdoom import *\n",
    "import random\n",
    "import time\n",
    "import numpy as np"
   ]
  },
  {
   "cell_type": "code",
   "execution_count": 29,
   "id": "b3d957ec-80c9-462c-ab26-91382c53dbe0",
   "metadata": {},
   "outputs": [
    {
     "data": {
      "text/plain": [
       "True"
      ]
     },
     "execution_count": 29,
     "metadata": {},
     "output_type": "execute_result"
    }
   ],
   "source": [
    "# Setting the game\n",
    "game = DoomGame()\n",
    "game.load_config(\"./packages/ViZDoom/scenarios/basic.cfg\")"
   ]
  },
  {
   "cell_type": "code",
   "execution_count": 31,
   "id": "8ad6878d-a7eb-45b8-a573-443ad4f12f61",
   "metadata": {},
   "outputs": [],
   "source": [
    "game.init()"
   ]
  },
  {
   "cell_type": "code",
   "execution_count": 32,
   "id": "1eac945b-bb43-4bbf-a895-875d0e3e2ddc",
   "metadata": {},
   "outputs": [
    {
     "data": {
      "text/plain": [
       "array([[1, 0, 0],\n",
       "       [0, 1, 0],\n",
       "       [0, 0, 1]], dtype=uint8)"
      ]
     },
     "execution_count": 32,
     "metadata": {},
     "output_type": "execute_result"
    }
   ],
   "source": [
    "# Set of all available input actions\n",
    "actions = np.identity(3, dtype=np.uint8)\n",
    "actions"
   ]
  },
  {
   "cell_type": "code",
   "execution_count": 33,
   "id": "27870cd1-70cf-41e5-a16a-05a4aac15dee",
   "metadata": {
    "scrolled": true
   },
   "outputs": [
    {
     "name": "stdout",
     "output_type": "stream",
     "text": [
      "Action: [0 0 1], Reward: -4.0\n",
      "Action: [1 0 0], Reward: -9.0\n",
      "Action: [1 0 0], Reward: -4.0\n",
      "Action: [0 0 1], Reward: -4.0\n",
      "Action: [1 0 0], Reward: -9.0\n",
      "Action: [0 0 1], Reward: -4.0\n",
      "Action: [0 0 1], Reward: -4.0\n",
      "Action: [0 1 0], Reward: -4.0\n",
      "Action: [0 0 1], Reward: -4.0\n",
      "Action: [1 0 0], Reward: -9.0\n",
      "Action: [0 0 1], Reward: -4.0\n",
      "Action: [1 0 0], Reward: -4.0\n",
      "Action: [0 1 0], Reward: -4.0\n",
      "Action: [0 0 1], Reward: -4.0\n",
      "Action: [0 1 0], Reward: -9.0\n",
      "Action: [0 0 1], Reward: -4.0\n",
      "Action: [0 1 0], Reward: -4.0\n",
      "Action: [0 0 1], Reward: -4.0\n",
      "Action: [0 1 0], Reward: -9.0\n",
      "Action: [0 0 1], Reward: -4.0\n",
      "Action: [1 0 0], Reward: -4.0\n",
      "Action: [1 0 0], Reward: -4.0\n",
      "Action: [0 1 0], Reward: -4.0\n",
      "Action: [0 0 1], Reward: -4.0\n",
      "Action: [1 0 0], Reward: -9.0\n",
      "Action: [0 0 1], Reward: -4.0\n",
      "Action: [0 1 0], Reward: -4.0\n",
      "Action: [1 0 0], Reward: -4.0\n",
      "Action: [0 1 0], Reward: -4.0\n",
      "Action: [0 0 1], Reward: -4.0\n",
      "Action: [0 1 0], Reward: -9.0\n",
      "Action: [0 0 1], Reward: -4.0\n",
      "Action: [0 0 1], Reward: -4.0\n",
      "Action: [1 0 0], Reward: -9.0\n",
      "Action: [0 1 0], Reward: -4.0\n",
      "Action: [1 0 0], Reward: -4.0\n",
      "Action: [1 0 0], Reward: -4.0\n",
      "Action: [0 0 1], Reward: -4.0\n",
      "Action: [1 0 0], Reward: -9.0\n",
      "Action: [1 0 0], Reward: -4.0\n",
      "Action: [1 0 0], Reward: -4.0\n",
      "Action: [0 1 0], Reward: -4.0\n",
      "Action: [1 0 0], Reward: -4.0\n",
      "Action: [0 1 0], Reward: -4.0\n",
      "Action: [0 1 0], Reward: -4.0\n",
      "Action: [0 0 1], Reward: -4.0\n",
      "Action: [1 0 0], Reward: -9.0\n",
      "Action: [1 0 0], Reward: -4.0\n",
      "Action: [0 1 0], Reward: -4.0\n",
      "Action: [1 0 0], Reward: -4.0\n",
      "Action: [1 0 0], Reward: -4.0\n",
      "Action: [0 0 1], Reward: -4.0\n",
      "Action: [0 1 0], Reward: -9.0\n",
      "Action: [0 0 1], Reward: -4.0\n",
      "Action: [0 1 0], Reward: -4.0\n",
      "Action: [0 0 1], Reward: -4.0\n",
      "Action: [1 0 0], Reward: -9.0\n",
      "Action: [1 0 0], Reward: -4.0\n",
      "Action: [1 0 0], Reward: -4.0\n",
      "Action: [0 1 0], Reward: -4.0\n",
      "Action: [0 1 0], Reward: -4.0\n",
      "Action: [1 0 0], Reward: -4.0\n",
      "Action: [1 0 0], Reward: -4.0\n",
      "Action: [0 1 0], Reward: -4.0\n",
      "Action: [1 0 0], Reward: -4.0\n",
      "Action: [0 0 1], Reward: -4.0\n",
      "Action: [0 1 0], Reward: -9.0\n",
      "Action: [1 0 0], Reward: -4.0\n",
      "Action: [1 0 0], Reward: -4.0\n",
      "Action: [1 0 0], Reward: -4.0\n",
      "Action: [1 0 0], Reward: -4.0\n",
      "Action: [0 1 0], Reward: -4.0\n",
      "Action: [0 0 1], Reward: -4.0\n",
      "Action: [0 1 0], Reward: -9.0\n",
      "Action: [0 0 1], Reward: -4.0\n",
      "Total Reward: -370.0\n",
      "Action: [0 1 0], Reward: -4.0\n",
      "Action: [0 1 0], Reward: -4.0\n",
      "Action: [0 0 1], Reward: -4.0\n",
      "Action: [1 0 0], Reward: -9.0\n",
      "Action: [1 0 0], Reward: -4.0\n",
      "Action: [1 0 0], Reward: -4.0\n",
      "Action: [1 0 0], Reward: -4.0\n",
      "Action: [1 0 0], Reward: -4.0\n",
      "Action: [0 0 1], Reward: -4.0\n",
      "Action: [0 0 1], Reward: -9.0\n",
      "Action: [1 0 0], Reward: -4.0\n",
      "Action: [1 0 0], Reward: -4.0\n",
      "Action: [0 1 0], Reward: -4.0\n",
      "Action: [0 0 1], Reward: -4.0\n",
      "Action: [0 1 0], Reward: 99.0\n",
      "Total Reward: 33.0\n",
      "Action: [1 0 0], Reward: -4.0\n",
      "Action: [1 0 0], Reward: -4.0\n",
      "Action: [0 0 1], Reward: -4.0\n",
      "Action: [0 1 0], Reward: -9.0\n",
      "Action: [0 1 0], Reward: -4.0\n",
      "Action: [1 0 0], Reward: -4.0\n",
      "Action: [0 1 0], Reward: -4.0\n",
      "Action: [0 0 1], Reward: -4.0\n",
      "Action: [1 0 0], Reward: -9.0\n",
      "Action: [0 1 0], Reward: -4.0\n",
      "Action: [0 0 1], Reward: -4.0\n",
      "Action: [1 0 0], Reward: -9.0\n",
      "Action: [1 0 0], Reward: -4.0\n",
      "Action: [0 1 0], Reward: -4.0\n",
      "Action: [0 1 0], Reward: -4.0\n",
      "Action: [0 0 1], Reward: -4.0\n",
      "Action: [0 0 1], Reward: -9.0\n",
      "Action: [0 1 0], Reward: -4.0\n",
      "Action: [1 0 0], Reward: -4.0\n",
      "Action: [0 0 1], Reward: -4.0\n",
      "Action: [0 1 0], Reward: -4.0\n",
      "Action: [0 0 1], Reward: -4.0\n",
      "Action: [0 0 1], Reward: -9.0\n",
      "Action: [0 1 0], Reward: -4.0\n",
      "Action: [0 0 1], Reward: -4.0\n",
      "Action: [1 0 0], Reward: -9.0\n",
      "Action: [0 0 1], Reward: -4.0\n",
      "Action: [1 0 0], Reward: -4.0\n",
      "Action: [1 0 0], Reward: -4.0\n",
      "Action: [1 0 0], Reward: -4.0\n",
      "Action: [0 0 1], Reward: -4.0\n",
      "Action: [1 0 0], Reward: -9.0\n",
      "Action: [0 1 0], Reward: -4.0\n",
      "Action: [0 0 1], Reward: -4.0\n",
      "Action: [0 1 0], Reward: -9.0\n",
      "Action: [1 0 0], Reward: -4.0\n",
      "Action: [0 0 1], Reward: -4.0\n",
      "Action: [1 0 0], Reward: -4.0\n",
      "Action: [0 1 0], Reward: -4.0\n",
      "Action: [0 0 1], Reward: -4.0\n",
      "Action: [0 0 1], Reward: -9.0\n",
      "Action: [0 0 1], Reward: -4.0\n",
      "Action: [0 0 1], Reward: -4.0\n",
      "Action: [1 0 0], Reward: -9.0\n",
      "Action: [0 1 0], Reward: -4.0\n",
      "Action: [0 0 1], Reward: -4.0\n",
      "Action: [0 0 1], Reward: -4.0\n",
      "Action: [1 0 0], Reward: -9.0\n",
      "Action: [1 0 0], Reward: -4.0\n",
      "Action: [0 0 1], Reward: -4.0\n",
      "Action: [0 0 1], Reward: -9.0\n",
      "Action: [1 0 0], Reward: -4.0\n",
      "Action: [0 1 0], Reward: -4.0\n",
      "Action: [0 0 1], Reward: -4.0\n",
      "Action: [1 0 0], Reward: -9.0\n",
      "Action: [0 0 1], Reward: -4.0\n",
      "Action: [0 0 1], Reward: -4.0\n",
      "Action: [1 0 0], Reward: -9.0\n",
      "Action: [1 0 0], Reward: -4.0\n",
      "Action: [0 0 1], Reward: -4.0\n",
      "Action: [0 0 1], Reward: -4.0\n",
      "Action: [1 0 0], Reward: -9.0\n",
      "Action: [0 0 1], Reward: -4.0\n",
      "Action: [0 1 0], Reward: -4.0\n",
      "Action: [0 0 1], Reward: -4.0\n",
      "Action: [0 0 1], Reward: 97.0\n",
      "Action: [1 0 0], Reward: -1.0\n",
      "Total Reward: -239.0\n",
      "Action: [0 0 1], Reward: -4.0\n",
      "Action: [1 0 0], Reward: -9.0\n",
      "Action: [1 0 0], Reward: -4.0\n",
      "Action: [0 0 1], Reward: -4.0\n",
      "Action: [0 0 1], Reward: -9.0\n",
      "Action: [0 0 1], Reward: -4.0\n",
      "Action: [1 0 0], Reward: -4.0\n",
      "Action: [0 1 0], Reward: -4.0\n",
      "Action: [1 0 0], Reward: -4.0\n",
      "Action: [0 0 1], Reward: -4.0\n",
      "Action: [0 0 1], Reward: -9.0\n",
      "Action: [0 1 0], Reward: -4.0\n",
      "Action: [0 1 0], Reward: -4.0\n",
      "Action: [0 1 0], Reward: -4.0\n",
      "Action: [0 1 0], Reward: -4.0\n",
      "Action: [0 1 0], Reward: -4.0\n",
      "Action: [0 1 0], Reward: -4.0\n",
      "Action: [0 1 0], Reward: -4.0\n",
      "Action: [0 0 1], Reward: -4.0\n",
      "Action: [1 0 0], Reward: -9.0\n",
      "Action: [0 1 0], Reward: -4.0\n",
      "Action: [0 1 0], Reward: -4.0\n",
      "Action: [0 1 0], Reward: -4.0\n",
      "Action: [0 0 1], Reward: -4.0\n",
      "Action: [1 0 0], Reward: 99.0\n",
      "Total Reward: -17.0\n",
      "Action: [1 0 0], Reward: -4.0\n",
      "Action: [0 0 1], Reward: -4.0\n",
      "Action: [0 0 1], Reward: -9.0\n",
      "Action: [1 0 0], Reward: -4.0\n",
      "Action: [0 0 1], Reward: -4.0\n",
      "Action: [1 0 0], Reward: -9.0\n",
      "Action: [1 0 0], Reward: -4.0\n",
      "Action: [1 0 0], Reward: -4.0\n",
      "Action: [0 1 0], Reward: -4.0\n",
      "Action: [0 1 0], Reward: -4.0\n",
      "Action: [0 1 0], Reward: -4.0\n",
      "Action: [0 1 0], Reward: -4.0\n",
      "Action: [0 1 0], Reward: -4.0\n",
      "Action: [0 1 0], Reward: -4.0\n",
      "Action: [0 1 0], Reward: -4.0\n",
      "Action: [1 0 0], Reward: -4.0\n",
      "Action: [0 0 1], Reward: -4.0\n",
      "Action: [0 1 0], Reward: -9.0\n",
      "Action: [1 0 0], Reward: -4.0\n",
      "Action: [1 0 0], Reward: -4.0\n",
      "Action: [0 1 0], Reward: -4.0\n",
      "Action: [0 1 0], Reward: -4.0\n",
      "Action: [0 0 1], Reward: -4.0\n",
      "Action: [0 0 1], Reward: -9.0\n",
      "Action: [1 0 0], Reward: -4.0\n",
      "Action: [0 1 0], Reward: -4.0\n",
      "Action: [0 1 0], Reward: -4.0\n",
      "Action: [1 0 0], Reward: -4.0\n",
      "Action: [0 1 0], Reward: -4.0\n",
      "Action: [0 0 1], Reward: -4.0\n",
      "Action: [0 0 1], Reward: -9.0\n",
      "Action: [1 0 0], Reward: -4.0\n",
      "Action: [0 0 1], Reward: -4.0\n",
      "Action: [0 0 1], Reward: -9.0\n",
      "Action: [1 0 0], Reward: -4.0\n",
      "Action: [1 0 0], Reward: -4.0\n",
      "Action: [0 1 0], Reward: -4.0\n",
      "Action: [1 0 0], Reward: -4.0\n",
      "Action: [0 0 1], Reward: -4.0\n",
      "Action: [0 0 1], Reward: -9.0\n",
      "Action: [1 0 0], Reward: -4.0\n",
      "Action: [0 0 1], Reward: -4.0\n",
      "Action: [0 1 0], Reward: -9.0\n",
      "Action: [0 0 1], Reward: -4.0\n",
      "Action: [0 1 0], Reward: -4.0\n",
      "Action: [1 0 0], Reward: -4.0\n",
      "Action: [0 0 1], Reward: -4.0\n",
      "Action: [1 0 0], Reward: -9.0\n",
      "Action: [1 0 0], Reward: -4.0\n",
      "Action: [0 1 0], Reward: -4.0\n",
      "Action: [1 0 0], Reward: -4.0\n",
      "Action: [1 0 0], Reward: -4.0\n",
      "Action: [0 1 0], Reward: -4.0\n",
      "Action: [0 1 0], Reward: -4.0\n",
      "Action: [1 0 0], Reward: -4.0\n",
      "Action: [0 0 1], Reward: -4.0\n",
      "Action: [0 0 1], Reward: 99.0\n",
      "Total Reward: -170.0\n"
     ]
    }
   ],
   "source": [
    "# Setting the game to play for a certain no. of times\n",
    "episodes = 5\n",
    "\n",
    "for episode in range(episodes):\n",
    "    game.new_episode()\n",
    "\n",
    "    # Checking for the termination condition for an episode\n",
    "    # If not terminate, update the game to take action\n",
    "    while not game.is_episode_finished():\n",
    "        cur_state = game.get_state()\n",
    "        screen_buffer = cur_state.screen_buffer\n",
    "        info = cur_state.game_variables\n",
    "        \n",
    "        # Taking the action based on the result\n",
    "        action = random.choice(actions)\n",
    "        result = game.make_action( action, 4 )    # params: actions, frame_skip\n",
    "        print(f\"Action: {action}, Reward: {result}\")\n",
    "        time.sleep(0.2)\n",
    "    # If terminated\n",
    "    print(f\"Total Reward: {game.get_total_reward()}\")\n",
    "    time.sleep(2)"
   ]
  },
  {
   "cell_type": "code",
   "execution_count": 28,
   "id": "1f40b39f-20a9-4ba1-9ec8-ed630d2b6a71",
   "metadata": {},
   "outputs": [],
   "source": [
    "game.close()"
   ]
  },
  {
   "cell_type": "code",
   "execution_count": null,
   "id": "9d93d716-cfdc-453e-99f5-61f25fc9724a",
   "metadata": {},
   "outputs": [],
   "source": []
  }
 ],
 "metadata": {
  "kernelspec": {
   "display_name": "Python 3 (ipykernel)",
   "language": "python",
   "name": "python3"
  },
  "language_info": {
   "codemirror_mode": {
    "name": "ipython",
    "version": 3
   },
   "file_extension": ".py",
   "mimetype": "text/x-python",
   "name": "python",
   "nbconvert_exporter": "python",
   "pygments_lexer": "ipython3",
   "version": "3.10.14"
  }
 },
 "nbformat": 4,
 "nbformat_minor": 5
}
